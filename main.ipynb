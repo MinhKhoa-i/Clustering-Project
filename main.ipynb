{
 "cells": [
  {
   "cell_type": "markdown",
   "id": "a40879a5-7cd6-41b3-8ea7-02d65efcf521",
   "metadata": {},
   "source": [
    "# Dự án: Gom nhóm dữ liệu bằng các phương pháp học máy\n",
    "\n",
    "Chạy toàn bộ quy trình: tiền xử lý, phân cụm (K-Means tự viết, K-Means thư viện, DBSCAN), đánh giá và trực quan hóa."
   ]
  },
  {
   "cell_type": "code",
   "execution_count": 1,
   "id": "1d04a46a-4390-4e9e-9e92-dc2880e9d1c9",
   "metadata": {},
   "outputs": [],
   "source": [
    "# Import các thư viện cần thiết\n",
    "import pandas as pd\n",
    "import numpy as np\n",
    "from src.preprocessing import preprocess_data\n",
    "from src.kmeans_custom import kmeans_custom, compute_inertia\n",
    "from src.kmeans_library import kmeans_library, compute_inertia_library\n",
    "from src.dbscan_library import dbscan_library\n",
    "from src.evaluation import evaluate_clustering, save_evaluation_results\n",
    "from src.visualization import plot_clusters"
   ]
  },
  {
   "cell_type": "markdown",
   "id": "500433c6-a10b-43f0-9867-3028a048001e",
   "metadata": {},
   "source": [
    "## 1. Tiền xử lý dữ liệu"
   ]
  },
  {
   "cell_type": "code",
   "execution_count": 2,
   "id": "02c737f6-b898-43b0-9eff-4e97547c7136",
   "metadata": {},
   "outputs": [
    {
     "name": "stdout",
     "output_type": "stream",
     "text": [
      "Dữ liệu đã chuẩn hóa được lưu tại: data/processed_mall_customers.csv\n",
      "Dữ liệu sau PCA được lưu tại: data/mall_customers_pca.csv\n",
      "Tỷ lệ phương sai được giải thích bởi PCA: [0.44266167 0.33308378]\n"
     ]
    }
   ],
   "source": [
    "# Tiền xử lý Mall Customer Segmentation Data\n",
    "X_scaled_df, X_pca_df = preprocess_data(\n",
    "    file_path=\"data/Mall_Customers.csv\",\n",
    "    output_path_scaled=\"data/processed_mall_customers.csv\",\n",
    "    output_path_pca=\"data/mall_customers_pca.csv\",\n",
    "    use_pca=True,\n",
    "    n_components=2\n",
    ")\n",
    "\n",
    "# Chuyển thành numpy array\n",
    "X_scaled = X_scaled_df.values\n",
    "X_pca = X_pca_df.values"
   ]
  },
  {
   "cell_type": "markdown",
   "id": "b6298447-8fab-4193-ba15-601b3005ad20",
   "metadata": {},
   "source": [
    "## 2. Phân cụm"
   ]
  },
  {
   "cell_type": "code",
   "execution_count": 3,
   "id": "3885b6a8-9a28-4149-8430-2942d41b46cf",
   "metadata": {},
   "outputs": [
    {
     "name": "stdout",
     "output_type": "stream",
     "text": [
      "K-Means Custom - Inertia: 168.2476\n",
      "K-Means Library - Inertia: 169.8915\n"
     ]
    },
    {
     "name": "stderr",
     "output_type": "stream",
     "text": [
      "c:\\Users\\vkhoa\\anaconda3\\Lib\\site-packages\\sklearn\\cluster\\_kmeans.py:1429: UserWarning: KMeans is known to have a memory leak on Windows with MKL, when there are less chunks than available threads. You can avoid it by setting the environment variable OMP_NUM_THREADS=1.\n",
      "  warnings.warn(\n"
     ]
    }
   ],
   "source": [
    "# Tham số\n",
    "k = 5  # Số cụm cho K-Means\n",
    "eps = 0.5  # Bán kính cho DBSCAN\n",
    "min_samples = 5  # Số điểm tối thiểu cho DBSCAN\n",
    "\n",
    "# K-Means tự viết\n",
    "labels_kmeans_custom, centroids_kmeans_custom = kmeans_custom(X_scaled, k=k, random_state=42)\n",
    "inertia_custom = compute_inertia(X_scaled, labels_kmeans_custom, centroids_kmeans_custom)\n",
    "print(f\"K-Means Custom - Inertia: {inertia_custom:.4f}\")\n",
    "\n",
    "# K-Means thư viện\n",
    "labels_kmeans_library, centroids_kmeans_library = kmeans_library(X_scaled, k=k, random_state=42)\n",
    "inertia_library = compute_inertia_library(X_scaled, labels_kmeans_library, centroids_kmeans_library)\n",
    "print(f\"K-Means Library - Inertia: {inertia_library:.4f}\")\n",
    "\n",
    "# DBSCAN\n",
    "labels_dbscan = dbscan_library(X_scaled, eps=eps, min_samples=min_samples)"
   ]
  },
  {
   "cell_type": "markdown",
   "id": "7ac77c4a-c826-45a2-a80a-0a86b605c3bf",
   "metadata": {},
   "source": [
    "## 3. Đánh giá"
   ]
  },
  {
   "cell_type": "code",
   "execution_count": 4,
   "id": "40cff6d5-daad-4000-ba3d-34ddd04aede3",
   "metadata": {},
   "outputs": [
    {
     "name": "stdout",
     "output_type": "stream",
     "text": [
      "K-Means Custom - Silhouette Score: 0.4166, Davies-Bouldin Index: 0.8746\n",
      "K-Means Library - Silhouette Score: 0.4085, Davies-Bouldin Index: 0.8890\n",
      "DBSCAN - Silhouette Score: 0.1845, Davies-Bouldin Index: 1.7569\n",
      "Kết quả đánh giá đã lưu tại: results/evaluation_metrics.txt\n"
     ]
    }
   ],
   "source": [
    "# Đánh giá các phương pháp\n",
    "evaluation_results = {}\n",
    "evaluation_results[\"K-Means Custom\"] = evaluate_clustering(X_scaled, labels_kmeans_custom, \"K-Means Custom\")\n",
    "evaluation_results[\"K-Means Library\"] = evaluate_clustering(X_scaled, labels_kmeans_library, \"K-Means Library\")\n",
    "evaluation_results[\"DBSCAN\"] = evaluate_clustering(X_scaled, labels_dbscan, \"DBSCAN\")\n",
    "\n",
    "# Lưu kết quả đánh giá\n",
    "save_evaluation_results(evaluation_results, output_path=\"results/evaluation_metrics.txt\")"
   ]
  },
  {
   "cell_type": "markdown",
   "id": "dc117134-61b8-430f-8d2d-59b215f77fac",
   "metadata": {},
   "source": [
    "## 4. Trực quan hóa"
   ]
  },
  {
   "cell_type": "code",
   "execution_count": 5,
   "id": "05f1ea83-6adc-464a-92b2-2753872378a7",
   "metadata": {},
   "outputs": [
    {
     "name": "stdout",
     "output_type": "stream",
     "text": [
      "Biểu đồ đã lưu tại: results/kmeans_custom_plot.png\n",
      "Biểu đồ đã lưu tại: results/kmeans_library_plot.png\n",
      "Biểu đồ đã lưu tại: results/dbscan_plot.png\n"
     ]
    },
    {
     "name": "stderr",
     "output_type": "stream",
     "text": [
      "c:\\Khoa\\Y3_HK2\\MachineLearning\\Clustering_Project\\src\\visualization.py:23: UserWarning: No artists with labels found to put in legend.  Note that artists whose label start with an underscore are ignored when legend() is called with no argument.\n",
      "  plt.legend()\n"
     ]
    }
   ],
   "source": [
    "# Trực quan hóa (dùng dữ liệu sau PCA để vẽ 2D)\n",
    "from sklearn.decomposition import PCA\n",
    "pca = PCA(n_components=2)\n",
    "pca.fit(X_scaled)\n",
    "\n",
    "plot_clusters(\n",
    "    X=X_pca,\n",
    "    labels=labels_kmeans_custom,\n",
    "    centroids=pca.transform(centroids_kmeans_custom),\n",
    "    method_name=\"K-Means Custom\",\n",
    "    save_path=\"results/kmeans_custom_plot.png\"\n",
    ")\n",
    "\n",
    "plot_clusters(\n",
    "    X=X_pca,\n",
    "    labels=labels_kmeans_library,\n",
    "    centroids=pca.transform(centroids_kmeans_library),\n",
    "    method_name=\"K-Means Library\",\n",
    "    save_path=\"results/kmeans_library_plot.png\"\n",
    ")\n",
    "\n",
    "plot_clusters(\n",
    "    X=X_pca,\n",
    "    labels=labels_dbscan,\n",
    "    centroids=None,  # DBSCAN không có tâm cụm\n",
    "    method_name=\"DBSCAN\",\n",
    "    save_path=\"results/dbscan_plot.png\"\n",
    ")"
   ]
  }
 ],
 "metadata": {
  "kernelspec": {
   "display_name": "base",
   "language": "python",
   "name": "python3"
  },
  "language_info": {
   "codemirror_mode": {
    "name": "ipython",
    "version": 3
   },
   "file_extension": ".py",
   "mimetype": "text/x-python",
   "name": "python",
   "nbconvert_exporter": "python",
   "pygments_lexer": "ipython3",
   "version": "3.12.3"
  }
 },
 "nbformat": 4,
 "nbformat_minor": 5
}
